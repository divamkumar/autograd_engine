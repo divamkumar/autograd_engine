{
 "cells": [
  {
   "cell_type": "code",
   "execution_count": 23,
   "id": "05f1edb4-daa9-41e3-8d73-221f08205539",
   "metadata": {},
   "outputs": [],
   "source": [
    "import math"
   ]
  },
  {
   "cell_type": "code",
   "execution_count": 45,
   "id": "b492a87b-b95b-4d6a-9650-c9c993a00b85",
   "metadata": {},
   "outputs": [],
   "source": [
    "class ZeroDimTensor:\n",
    "    def __init__(self, val, _children=(), op=\"\", label=\"\"):\n",
    "        self.val = float(val)\n",
    "        self.grad = 0.0\n",
    "        self.op = op\n",
    "        self.label = label\n",
    "        self._children = set(_children)\n",
    "        self._apply_backward_pass = lambda: None\n",
    "\n",
    "    def __repr__(self):\n",
    "        return f\"ZeroDimTensor(label='{self.label}', val={self.val}, grad={self.grad}, op='{self.op}')\"\n",
    "\n",
    "    def __add__(self, other):\n",
    "        other = other if isinstance(other, ZeroDimTensor) else ZeroDimTensor(other)\n",
    "        return_val = ZeroDimTensor(self.val + other.val, (self, other), \"+\") # forward pass\n",
    "\n",
    "        def _backward_pass_add():\n",
    "            # gradients accumulate, so use += instead of =\n",
    "            self.grad += return_val.grad\n",
    "            other.grad += return_val.grad\n",
    "            \n",
    "        return_val._apply_backward_pass = _backward_pass_add\n",
    "        \n",
    "        return return_val\n",
    "\n",
    "    def __radd__(self, other):\n",
    "        return self + other\n",
    "\n",
    "    def __mul__(self, other):\n",
    "        other = other if isinstance(other, ZeroDimTensor) else ZeroDimTensor(other)\n",
    "        return_val = ZeroDimTensor(self.val * other.val, (self, other), \"*\") # forward pass\n",
    "        \n",
    "        def _backward_pass_mul():\n",
    "            # gradients accumulate, so use += instead of =\n",
    "            self.grad += other.val  * return_val.grad\n",
    "            other.grad += self.val * return_val.grad\n",
    "            \n",
    "        return_val._apply_backward_pass = _backward_pass_mul;\n",
    "        \n",
    "        return return_val\n",
    "\n",
    "    def __rmul__(self, other):\n",
    "        return self * other\n",
    "\n",
    "    def tanh(self):\n",
    "        return_val = ZeroDimTensor(math.tanh(self.val), (self,), \"tanh\") # forward pass\n",
    "        \n",
    "        def _backward_pass_tanh():\n",
    "            # gradients accumulate, so use += instead of =\n",
    "            self.grad += (1 - return_val.val**2) * return_val.grad \n",
    "            \n",
    "        return_val._apply_backward_pass = _backward_pass_tanh;\n",
    "        \n",
    "        return return_val\n",
    "\n",
    "    def backward(self): # in the nature of the Pytorch API\n",
    "        topological_ordering = []\n",
    "        visited = set()\n",
    "        \n",
    "        def topological_sort(node):\n",
    "            if node not in visited:\n",
    "                visited.add(node)\n",
    "                for child in node._children:\n",
    "                    topological_sort(child)\n",
    "                topological_ordering.append(node)\n",
    "\n",
    "        self.grad = 1.0 # derivative of the first node is always 1\n",
    "        topological_sort(self)\n",
    "\n",
    "        for tensor in topological_ordering[::-1]:\n",
    "            tensor._apply_backward_pass()\n",
    "\n",
    "        for tensor in topological_ordering:\n",
    "            print(tensor)"
   ]
  },
  {
   "cell_type": "code",
   "execution_count": 47,
   "id": "43b70971-1c99-4020-91e0-c349490a5faa",
   "metadata": {},
   "outputs": [
    {
     "name": "stdout",
     "output_type": "stream",
     "text": [
      "ZeroDimTensor(label='x2', val=0.0, grad=0.4999813233768232, op='')\n",
      "ZeroDimTensor(label='w2', val=1.0, grad=0.0, op='')\n",
      "ZeroDimTensor(label='w2x2', val=0.0, grad=0.4999813233768232, op='*')\n",
      "ZeroDimTensor(label='w1', val=-3.0, grad=0.9999626467536464, op='')\n",
      "ZeroDimTensor(label='x1', val=2.0, grad=-1.4999439701304698, op='')\n",
      "ZeroDimTensor(label='w1x1', val=-6.0, grad=0.4999813233768232, op='*')\n",
      "ZeroDimTensor(label='w1x1_plus_w2x2', val=-6.0, grad=0.4999813233768232, op='+')\n",
      "ZeroDimTensor(label='b', val=6.8814, grad=0.4999813233768232, op='')\n",
      "ZeroDimTensor(label='n', val=0.8814000000000002, grad=0.4999813233768232, op='+')\n",
      "ZeroDimTensor(label='o', val=0.7071199874301226, grad=1.0, op='tanh')\n"
     ]
    }
   ],
   "source": [
    "x1 = ZeroDimTensor(2.0, (), \"\", \"x1\")\n",
    "w1 = ZeroDimTensor(-3.0, (), \"\", \"w1\")\n",
    "\n",
    "x2 = ZeroDimTensor(0.0, (), \"\", \"x2\")\n",
    "w2 = ZeroDimTensor(1.0, (), \"\", \"w2\")\n",
    "\n",
    "b = ZeroDimTensor(6.8814, (), \"\", \"b\")\n",
    "\n",
    "w1x1 = w1 * x1\n",
    "w1x1.label = \"w1x1\"\n",
    "\n",
    "w2x2 = w2 * x2\n",
    "w2x2.label = \"w2x2\"\n",
    "\n",
    "w1x1_plus_w2x2 = w1x1 + w2x2\n",
    "w1x1_plus_w2x2.label = \"w1x1_plus_w2x2\"\n",
    "\n",
    "n = w1x1_plus_w2x2 + b\n",
    "n.label = \"n\"\n",
    "\n",
    "o = n.tanh()\n",
    "o.label = \"o\"\n",
    "o.backward()"
   ]
  },
  {
   "cell_type": "code",
   "execution_count": 16,
   "id": "451bdff9-58a1-4694-9a84-c76c746127c2",
   "metadata": {},
   "outputs": [
    {
     "data": {
      "text/plain": [
       "ZeroDimTensor(val=6.0, grad=0, op=*)"
      ]
     },
     "execution_count": 16,
     "metadata": {},
     "output_type": "execute_result"
    }
   ],
   "source": [
    "x1 = ZeroDimTensor(1.0)\n",
    "x1 * 6"
   ]
  },
  {
   "cell_type": "code",
   "execution_count": null,
   "id": "88cd3800-4a45-432f-8b7b-823d2541ddd1",
   "metadata": {},
   "outputs": [],
   "source": []
  }
 ],
 "metadata": {
  "kernelspec": {
   "display_name": "Python 3 (ipykernel)",
   "language": "python",
   "name": "python3"
  },
  "language_info": {
   "codemirror_mode": {
    "name": "ipython",
    "version": 3
   },
   "file_extension": ".py",
   "mimetype": "text/x-python",
   "name": "python",
   "nbconvert_exporter": "python",
   "pygments_lexer": "ipython3",
   "version": "3.10.12"
  }
 },
 "nbformat": 4,
 "nbformat_minor": 5
}
